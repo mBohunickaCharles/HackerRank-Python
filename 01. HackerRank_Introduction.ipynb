{
 "cells": [
  {
   "cell_type": "markdown",
   "id": "910ba6de-dfae-4f7a-b8b2-dae6c018c995",
   "metadata": {},
   "source": [
    "# **HackerRank Python**"
   ]
  },
  {
   "cell_type": "markdown",
   "id": "56c41418-89f9-46c9-9040-688d4fe5e19a",
   "metadata": {},
   "source": [
    "## **Introduction**"
   ]
  },
  {
   "cell_type": "markdown",
   "id": "78a90cb9-8d33-478e-bac7-9e1973f6bda0",
   "metadata": {
    "jp-MarkdownHeadingCollapsed": true
   },
   "source": [
    "### Say \"Hello, World!\" With Python\n",
    "[problem link](https://www.hackerrank.com/challenges/py-hello-world/problem?isFullScreen=true)"
   ]
  },
  {
   "cell_type": "code",
   "execution_count": 1,
   "id": "7f30e24f-1c36-4a9a-8318-16d6cbd07228",
   "metadata": {},
   "outputs": [
    {
     "name": "stdout",
     "output_type": "stream",
     "text": [
      "Hello, World!\n"
     ]
    }
   ],
   "source": [
    "my_string = \"Hello, World!\"\n",
    "print(my_string)"
   ]
  },
  {
   "cell_type": "markdown",
   "id": "4bb3a073-a3dd-41b2-a2ad-bb0a84febe21",
   "metadata": {
    "jp-MarkdownHeadingCollapsed": true
   },
   "source": [
    "### Python If-Else\n",
    "[problem link](https://www.hackerrank.com/challenges/py-if-else/problem?isFullScreen=true)"
   ]
  },
  {
   "cell_type": "code",
   "execution_count": 2,
   "id": "07a32112-a022-4428-bdf1-76f41cc5cae5",
   "metadata": {},
   "outputs": [
    {
     "name": "stdin",
     "output_type": "stream",
     "text": [
      " 24\n"
     ]
    }
   ],
   "source": [
    "N = int(input().strip())"
   ]
  },
  {
   "cell_type": "code",
   "execution_count": 3,
   "id": "ac1389f6-c581-4ca7-9f37-58a9a826d691",
   "metadata": {},
   "outputs": [
    {
     "name": "stdout",
     "output_type": "stream",
     "text": [
      "Not Weird\n"
     ]
    }
   ],
   "source": [
    "if N%2 != 0:\n",
    "    print('Weird')\n",
    "elif N%2 == 0 and 2<=N<=5:\n",
    "    print('Not Weird')\n",
    "elif N%2 == 0 and 6<=N<=20:\n",
    "    print('Weird')\n",
    "else:\n",
    "    print('Not Weird')\n"
   ]
  },
  {
   "cell_type": "code",
   "execution_count": 4,
   "id": "d5eb4ffe-0430-4487-adf2-6d55c5d55334",
   "metadata": {},
   "outputs": [
    {
     "name": "stdout",
     "output_type": "stream",
     "text": [
      "Not Weird\n"
     ]
    }
   ],
   "source": [
    "if N%2 == 0 and (2<=N<=5 or N>20):\n",
    "    print ('Not Weird')\n",
    "else:\n",
    "    print('Weird')"
   ]
  },
  {
   "cell_type": "code",
   "execution_count": 5,
   "id": "1998c3c3-133e-4176-a1a2-d91845ca477f",
   "metadata": {},
   "outputs": [
    {
     "name": "stdout",
     "output_type": "stream",
     "text": [
      "Not Weird\n"
     ]
    }
   ],
   "source": [
    "if N%2 == 0 and (N in range(2,6) or N>20):\n",
    "    print ('Not Weird')\n",
    "else:\n",
    "    print('Weird')"
   ]
  },
  {
   "cell_type": "markdown",
   "id": "54333f39-f132-4c5b-b085-ae09e435bf9b",
   "metadata": {
    "jp-MarkdownHeadingCollapsed": true
   },
   "source": [
    "### Arithmetic Operators\n",
    "[problem link](https://www.hackerrank.com/challenges/python-arithmetic-operators/problem?isFullScreen=true)"
   ]
  },
  {
   "cell_type": "code",
   "execution_count": 6,
   "id": "b440e362-8ba2-46d2-8a98-22af6756980d",
   "metadata": {},
   "outputs": [
    {
     "name": "stdin",
     "output_type": "stream",
     "text": [
      " 3\n"
     ]
    }
   ],
   "source": [
    "# Enter the integer a that satisfies: 1<=a<=10**10:\n",
    "a = int(input().strip())"
   ]
  },
  {
   "cell_type": "code",
   "execution_count": 7,
   "id": "287501ce-9310-4132-a8f1-22e4151730f8",
   "metadata": {},
   "outputs": [
    {
     "name": "stdin",
     "output_type": "stream",
     "text": [
      " 5\n"
     ]
    }
   ],
   "source": [
    "# Enter the integer b that satisfies: 1<=b<=10**10:\n",
    "b = int(input().strip())"
   ]
  },
  {
   "cell_type": "code",
   "execution_count": 8,
   "id": "c5fafd08-a804-4fdc-8800-39ebc57a03bd",
   "metadata": {},
   "outputs": [
    {
     "name": "stdout",
     "output_type": "stream",
     "text": [
      "8\n",
      "-2\n",
      "15\n"
     ]
    }
   ],
   "source": [
    "if (a<1 or a>10**10) or (b<1 or b>10**10):\n",
    "    print('Enter a valid integer number!!!')\n",
    "else:\n",
    "    print(a+b)\n",
    "    print(a-b)\n",
    "    print(a*b)"
   ]
  },
  {
   "cell_type": "markdown",
   "id": "3536635b-7f36-4360-9fb1-44e8a6c7166b",
   "metadata": {
    "jp-MarkdownHeadingCollapsed": true
   },
   "source": [
    "### Python: Division\n",
    "[problem link](https://www.hackerrank.com/challenges/python-division/problem?isFullScreen=true)"
   ]
  },
  {
   "cell_type": "code",
   "execution_count": 9,
   "id": "1122b2ae-9461-4b0f-be80-d956233e038d",
   "metadata": {},
   "outputs": [
    {
     "name": "stdin",
     "output_type": "stream",
     "text": [
      " 3\n"
     ]
    }
   ],
   "source": [
    "# Enter an integer a:\n",
    "a = int(input().strip())"
   ]
  },
  {
   "cell_type": "code",
   "execution_count": 10,
   "id": "744115b8-8c37-46e5-922f-85f3ea708b86",
   "metadata": {},
   "outputs": [
    {
     "name": "stdin",
     "output_type": "stream",
     "text": [
      " 5\n"
     ]
    }
   ],
   "source": [
    "# Enter an integer b:\n",
    "b = int(input().strip())"
   ]
  },
  {
   "cell_type": "code",
   "execution_count": 11,
   "id": "d8d45154-354f-47f1-a8b5-0684e8c29704",
   "metadata": {},
   "outputs": [
    {
     "name": "stdout",
     "output_type": "stream",
     "text": [
      "0\n",
      "0.6\n"
     ]
    }
   ],
   "source": [
    "# Print the result for integer division:\n",
    "print(a//b)\n",
    "\n",
    "# Print the result for float division:\n",
    "print(a/b)"
   ]
  },
  {
   "cell_type": "markdown",
   "id": "49fc397c-4a5a-499c-94a3-6300444641f6",
   "metadata": {
    "jp-MarkdownHeadingCollapsed": true
   },
   "source": [
    "### Loops\n",
    "[problem link](https://www.hackerrank.com/challenges/python-loops/problem?isFullScreen=true)"
   ]
  },
  {
   "cell_type": "code",
   "execution_count": 12,
   "id": "89642b43-838d-4959-b105-920de6587db0",
   "metadata": {},
   "outputs": [
    {
     "name": "stdin",
     "output_type": "stream",
     "text": [
      " 3\n"
     ]
    }
   ],
   "source": [
    "# Enter an integer N:\n",
    "N = int(input().strip())"
   ]
  },
  {
   "cell_type": "code",
   "execution_count": 13,
   "id": "dde6e664-0cc5-47a4-a32c-fd80331069c2",
   "metadata": {},
   "outputs": [
    {
     "name": "stdout",
     "output_type": "stream",
     "text": [
      "0\n",
      "1\n",
      "4\n"
     ]
    }
   ],
   "source": [
    "if N<1 or N>20:\n",
    "    print('Enter the integer that satify constraints 1<=N<=20!!!')\n",
    "else:\n",
    "    for i in range(N):\n",
    "        print(i**2)"
   ]
  },
  {
   "cell_type": "markdown",
   "id": "eaf7cbe7-6d96-4c0f-be66-79be79e6c7cd",
   "metadata": {
    "jp-MarkdownHeadingCollapsed": true
   },
   "source": [
    "### Write a function\n",
    "[problem link](https://www.hackerrank.com/challenges/write-a-function/problem?isFullScreen=true)"
   ]
  },
  {
   "cell_type": "code",
   "execution_count": 14,
   "id": "b2b57b11-20fa-47b3-ad6c-f151186582d5",
   "metadata": {},
   "outputs": [],
   "source": [
    "def is_leap(year):\n",
    "    leap = False\n",
    "\n",
    "    if year<1900 or year>10**5:\n",
    "        leap = 'Year is not valid! Enter year from 1900 to 100,000.'\n",
    "    elif (year%4 == 0 and year%100 != 0) or year%400 ==0:\n",
    "        leap = True\n",
    "    return leap    "
   ]
  },
  {
   "cell_type": "code",
   "execution_count": 15,
   "id": "1f126c44-4d6f-40ec-b144-75418ad3c98a",
   "metadata": {},
   "outputs": [
    {
     "data": {
      "text/plain": [
       "False"
      ]
     },
     "execution_count": 15,
     "metadata": {},
     "output_type": "execute_result"
    }
   ],
   "source": [
    "is_leap(1990)"
   ]
  },
  {
   "cell_type": "markdown",
   "id": "b1055dae-3859-4665-a71d-c2a20b1c2c06",
   "metadata": {
    "jp-MarkdownHeadingCollapsed": true
   },
   "source": [
    "### Print Function\n",
    "[problem link](https://www.hackerrank.com/challenges/python-print/problem?isFullScreen=true)"
   ]
  },
  {
   "cell_type": "code",
   "execution_count": 16,
   "id": "0ef9d961-bd18-4960-88c4-0311d44ef059",
   "metadata": {},
   "outputs": [
    {
     "name": "stdin",
     "output_type": "stream",
     "text": [
      " 5\n"
     ]
    }
   ],
   "source": [
    "# Enter an integer N:\n",
    "N = int(input().strip())"
   ]
  },
  {
   "cell_type": "code",
   "execution_count": 17,
   "id": "ee89b080-e0c6-4ed9-8f3b-44c219635f57",
   "metadata": {},
   "outputs": [
    {
     "name": "stdout",
     "output_type": "stream",
     "text": [
      "12345"
     ]
    }
   ],
   "source": [
    "if N not in range(1,151):\n",
    "    print(\"Enter an integer N between 1 and 150 including!\")\n",
    "else:\n",
    "    for i in range(N):\n",
    "        print(i+1, end=\"\")"
   ]
  }
 ],
 "metadata": {
  "kernelspec": {
   "display_name": "Python 3 (ipykernel)",
   "language": "python",
   "name": "python3"
  },
  "language_info": {
   "codemirror_mode": {
    "name": "ipython",
    "version": 3
   },
   "file_extension": ".py",
   "mimetype": "text/x-python",
   "name": "python",
   "nbconvert_exporter": "python",
   "pygments_lexer": "ipython3",
   "version": "3.11.7"
  }
 },
 "nbformat": 4,
 "nbformat_minor": 5
}
