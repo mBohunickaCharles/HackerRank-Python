{
 "cells": [
  {
   "cell_type": "markdown",
   "id": "910ba6de-dfae-4f7a-b8b2-dae6c018c995",
   "metadata": {},
   "source": [
    "# **HackerRank Python**"
   ]
  },
  {
   "cell_type": "markdown",
   "id": "20f342e5-1761-46d1-a84a-4b2e582f5aee",
   "metadata": {},
   "source": [
    "## **Basic Data Types**"
   ]
  },
  {
   "cell_type": "markdown",
   "id": "36689bf2-6f64-4044-be7e-59b3a132b08b",
   "metadata": {},
   "source": [
    "### List Comprehensions\n",
    "[problem link](https://www.hackerrank.com/challenges/list-comprehensions/problem?isFullScreen=true)"
   ]
  },
  {
   "cell_type": "code",
   "execution_count": 2,
   "id": "4bdc69a0-3eef-481b-b3af-07aca68fd307",
   "metadata": {},
   "outputs": [
    {
     "name": "stdin",
     "output_type": "stream",
     "text": [
      " 1\n",
      " 1\n",
      " 2\n",
      " 3\n"
     ]
    }
   ],
   "source": [
    "# Enter variables: x, y, z and n:\n",
    "x = int(input())\n",
    "y = int(input())\n",
    "z = int(input())\n",
    "n = int(input())"
   ]
  },
  {
   "cell_type": "code",
   "execution_count": 3,
   "id": "680101a0-7eed-47c3-8661-f001af8bdecf",
   "metadata": {},
   "outputs": [
    {
     "name": "stdout",
     "output_type": "stream",
     "text": [
      "[[0, 0, 0], [0, 0, 1], [0, 0, 2], [0, 1, 0], [0, 1, 1], [1, 0, 0], [1, 0, 1], [1, 1, 0], [1, 1, 2]]\n"
     ]
    }
   ],
   "source": [
    "# Print all the combinations that satisfy a condition:\n",
    "print([[i,j,k] for i in range(x+1) for j in range(y+1) for k in range(z+1) if i+j+k != n])"
   ]
  },
  {
   "cell_type": "markdown",
   "id": "3be5611b-6887-4abd-8c58-2e6d30ca26eb",
   "metadata": {},
   "source": [
    "### Find the Runner-Up Score!\n",
    "[problem link](https://www.hackerrank.com/challenges/find-second-maximum-number-in-a-list/problem?isFullScreen=true)"
   ]
  },
  {
   "cell_type": "code",
   "execution_count": 4,
   "id": "653da62e-9aa8-457c-8768-911d1312bf79",
   "metadata": {},
   "outputs": [
    {
     "name": "stdin",
     "output_type": "stream",
     "text": [
      " 2 3 6 6 5\n"
     ]
    }
   ],
   "source": [
    "# Enter an array (multiple integers) separated by a space:\n",
    "arr = map(int, input().split(' '))"
   ]
  },
  {
   "cell_type": "code",
   "execution_count": 5,
   "id": "501983ea-2b87-4e44-9e98-c2fae4d0f921",
   "metadata": {},
   "outputs": [
    {
     "name": "stdout",
     "output_type": "stream",
     "text": [
      "5\n"
     ]
    }
   ],
   "source": [
    "# Print runner up score:\n",
    "print(sorted(set(arr), reverse=True)[1])"
   ]
  },
  {
   "cell_type": "markdown",
   "id": "4142e49c-15b1-40c2-8b57-6e24815bb001",
   "metadata": {},
   "source": [
    "### Nested Lists\n",
    "[problem link](https://www.hackerrank.com/challenges/nested-list/problem?isFullScreen=true)"
   ]
  },
  {
   "cell_type": "code",
   "execution_count": 8,
   "id": "6e85312d-3627-4d1b-a5b4-399b9d2fd6d1",
   "metadata": {},
   "outputs": [
    {
     "name": "stdin",
     "output_type": "stream",
     "text": [
      " 5\n",
      " Harry\n",
      " 37.21\n",
      " Berry\n",
      " 37.21\n",
      " Tina\n",
      " 37.2\n",
      " Akriti\n",
      " 41\n",
      " Harsh\n",
      " 39\n"
     ]
    }
   ],
   "source": [
    "students = []\n",
    "\n",
    "for _ in range(int(input())):\n",
    "    name = input()\n",
    "    score = float(input())\n",
    "    students.append([name, score])\n",
    "\n",
    "# Sort students list by score and name:\n",
    "students.sort(key = lambda x:(x[1], x[0]))\n",
    "\n",
    "# Create a list of scores:\n",
    "scores = []\n",
    "for i in students:\n",
    "    scores.append(i[1])\n",
    "\n",
    "# Find second lowest score and assign to second:\n",
    "second = sorted(list(set(scores)), reverse = False)[1]"
   ]
  },
  {
   "cell_type": "code",
   "execution_count": 9,
   "id": "44d0d065-8f8c-4f11-a7f8-301a27186816",
   "metadata": {},
   "outputs": [
    {
     "name": "stdout",
     "output_type": "stream",
     "text": [
      "Berry\n",
      "Harry\n"
     ]
    }
   ],
   "source": [
    "# Print names of students with second lowest score:\n",
    "for i in students:\n",
    "    if i[1] == second:\n",
    "        print(i[0])"
   ]
  },
  {
   "cell_type": "markdown",
   "id": "decebbad-0a92-460a-8bdc-1c94efd40ace",
   "metadata": {},
   "source": [
    "### Finding the percentage\n",
    "[problem link](https://www.hackerrank.com/challenges/finding-the-percentage/problem?isFullScreen=true)"
   ]
  },
  {
   "cell_type": "code",
   "execution_count": 10,
   "id": "db08d689-f860-499c-b49b-005c4a903dc8",
   "metadata": {},
   "outputs": [
    {
     "name": "stdin",
     "output_type": "stream",
     "text": [
      " 3\n"
     ]
    }
   ],
   "source": [
    "# Enter number of students:\n",
    "n = int(input())"
   ]
  },
  {
   "cell_type": "code",
   "execution_count": 11,
   "id": "c0ee4c09-d5d1-4989-8f33-ac6d9e930e73",
   "metadata": {},
   "outputs": [
    {
     "name": "stdin",
     "output_type": "stream",
     "text": [
      " Krishna 67 68 69\n",
      " Arjun 70 98 63\n",
      " Malika 52 56 60\n"
     ]
    }
   ],
   "source": [
    "student_marks = {}\n",
    "\n",
    "for _ in range(n):\n",
    "    name, *line = input().split()\n",
    "    scores = list(map(float, line))\n",
    "    student_marks[name] = scores"
   ]
  },
  {
   "cell_type": "code",
   "execution_count": 12,
   "id": "275777e0-5923-4f6d-9a62-cacd64741b22",
   "metadata": {},
   "outputs": [
    {
     "name": "stdin",
     "output_type": "stream",
     "text": [
      " Malika\n"
     ]
    }
   ],
   "source": [
    "# Enter the name of student we want to calculate %:\n",
    "query_name = input()"
   ]
  },
  {
   "cell_type": "code",
   "execution_count": 13,
   "id": "36eb584a-4684-4696-9c5a-e5ee2726b03a",
   "metadata": {},
   "outputs": [
    {
     "name": "stdout",
     "output_type": "stream",
     "text": [
      "56.00\n"
     ]
    }
   ],
   "source": [
    "score = 0\n",
    "\n",
    "for i in student_marks[query_name]:\n",
    "    score += i\n",
    "avg = score/len(student_marks[query_name])\n",
    "print(\"%.2f\" % avg)"
   ]
  },
  {
   "cell_type": "markdown",
   "id": "e7eccc29-5055-4c1a-9da2-2c5a1dff4c7a",
   "metadata": {},
   "source": [
    "### Lists\n",
    "[problem link](https://www.hackerrank.com/challenges/python-lists/problem?isFullScreen=true)"
   ]
  },
  {
   "cell_type": "code",
   "execution_count": 18,
   "id": "fa0fccec-9fba-4d94-887a-c937711d5754",
   "metadata": {},
   "outputs": [
    {
     "name": "stdin",
     "output_type": "stream",
     "text": [
      " 12\n"
     ]
    }
   ],
   "source": [
    "N = int(input())"
   ]
  },
  {
   "cell_type": "code",
   "execution_count": 19,
   "id": "ed5aee68-a03a-419a-9c5a-7e2028440b6a",
   "metadata": {},
   "outputs": [
    {
     "name": "stdin",
     "output_type": "stream",
     "text": [
      " insert 0 5\n",
      " insert 1 10\n",
      " insert 0 6\n",
      " print\n"
     ]
    },
    {
     "name": "stdout",
     "output_type": "stream",
     "text": [
      "[6, 5, 10]\n"
     ]
    },
    {
     "name": "stdin",
     "output_type": "stream",
     "text": [
      " remove 6\n",
      " append 9\n",
      " append 1\n",
      " sort\n",
      " print\n"
     ]
    },
    {
     "name": "stdout",
     "output_type": "stream",
     "text": [
      "[1, 5, 9, 10]\n"
     ]
    },
    {
     "name": "stdin",
     "output_type": "stream",
     "text": [
      " pop\n",
      " reverse\n",
      " print\n"
     ]
    },
    {
     "name": "stdout",
     "output_type": "stream",
     "text": [
      "[9, 5, 1]\n"
     ]
    }
   ],
   "source": [
    "l = []\n",
    "\n",
    "for _ in range(N):\n",
    "    command = input().split()\n",
    "\n",
    "    if command[0] == \"insert\":\n",
    "        position, element = int(command[1]), int(command[2])\n",
    "        l.insert(position, element)\n",
    "    elif command[0] == \"print\":\n",
    "        print(l)\n",
    "    elif command[0] == \"remove\":\n",
    "        element = int(command[1])\n",
    "        l.remove(element)\n",
    "    elif command[0] == \"append\":\n",
    "        element = int(command[1])\n",
    "        l.append(element)\n",
    "    elif command[0] == \"sort\":\n",
    "        l.sort()\n",
    "    elif command[0] == \"pop\":\n",
    "        l.pop()\n",
    "    elif command[0] == \"reverse\":\n",
    "        l.reverse()\n",
    "    else:\n",
    "        print(\"Invalid command! Command is not recognised...\")"
   ]
  },
  {
   "cell_type": "markdown",
   "id": "2ee5949b-a9ec-4166-bde6-c9cfa74494cf",
   "metadata": {},
   "source": [
    "### Tuples\n",
    "[problem link](https://www.hackerrank.com/challenges/python-tuples/problem?isFullScreen=true)"
   ]
  },
  {
   "cell_type": "code",
   "execution_count": 20,
   "id": "b355efb5-8a16-40c7-9c34-2c4a46219cab",
   "metadata": {},
   "outputs": [
    {
     "name": "stdin",
     "output_type": "stream",
     "text": [
      " 2\n"
     ]
    }
   ],
   "source": [
    "n = int(input())"
   ]
  },
  {
   "cell_type": "code",
   "execution_count": 21,
   "id": "610f82a5-aeb1-4e98-b6ab-8c3ef7024ecd",
   "metadata": {},
   "outputs": [
    {
     "name": "stdin",
     "output_type": "stream",
     "text": [
      " 1 2\n"
     ]
    }
   ],
   "source": [
    "t = tuple(map(int, input().split()))"
   ]
  },
  {
   "cell_type": "code",
   "execution_count": 22,
   "id": "5cdf711b-fd75-4962-b9ac-b3efa0f887fe",
   "metadata": {},
   "outputs": [
    {
     "name": "stdout",
     "output_type": "stream",
     "text": [
      "-3550055125485641917\n"
     ]
    }
   ],
   "source": [
    "print(hash(t))"
   ]
  }
 ],
 "metadata": {
  "kernelspec": {
   "display_name": "Python 3 (ipykernel)",
   "language": "python",
   "name": "python3"
  },
  "language_info": {
   "codemirror_mode": {
    "name": "ipython",
    "version": 3
   },
   "file_extension": ".py",
   "mimetype": "text/x-python",
   "name": "python",
   "nbconvert_exporter": "python",
   "pygments_lexer": "ipython3",
   "version": "3.11.7"
  }
 },
 "nbformat": 4,
 "nbformat_minor": 5
}
