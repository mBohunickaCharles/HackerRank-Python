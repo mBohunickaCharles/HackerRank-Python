{
 "cells": [
  {
   "cell_type": "markdown",
   "id": "910ba6de-dfae-4f7a-b8b2-dae6c018c995",
   "metadata": {},
   "source": [
    "# **HackerRank Python**"
   ]
  },
  {
   "cell_type": "markdown",
   "id": "20f342e5-1761-46d1-a84a-4b2e582f5aee",
   "metadata": {},
   "source": [
    "## **Strings**"
   ]
  },
  {
   "cell_type": "markdown",
   "id": "36689bf2-6f64-4044-be7e-59b3a132b08b",
   "metadata": {},
   "source": [
    "### sWAP cASE\n",
    "[problem link](https://www.hackerrank.com/challenges/swap-case/problem?isFullScreen=true)"
   ]
  },
  {
   "cell_type": "code",
   "execution_count": 1,
   "id": "4bdc69a0-3eef-481b-b3af-07aca68fd307",
   "metadata": {},
   "outputs": [],
   "source": [
    "def swap_case(s):\n",
    "    return s.swapcase()"
   ]
  },
  {
   "cell_type": "code",
   "execution_count": 3,
   "id": "680101a0-7eed-47c3-8661-f001af8bdecf",
   "metadata": {},
   "outputs": [
    {
     "name": "stdin",
     "output_type": "stream",
     "text": [
      " hACKERrANK.COM PRESENTS \"pYTHONIST 2\".\n"
     ]
    },
    {
     "name": "stdout",
     "output_type": "stream",
     "text": [
      "HackerRank.com presents \"Pythonist 2\".\n"
     ]
    }
   ],
   "source": [
    "s = input().strip()\n",
    "result = swap_case(s)\n",
    "print(result)"
   ]
  },
  {
   "cell_type": "markdown",
   "id": "3be5611b-6887-4abd-8c58-2e6d30ca26eb",
   "metadata": {},
   "source": [
    "### String Split and Join\n",
    "[problem link](https://www.hackerrank.com/challenges/python-string-split-and-join/problem?isFullScreen=true)"
   ]
  },
  {
   "cell_type": "code",
   "execution_count": 5,
   "id": "653da62e-9aa8-457c-8768-911d1312bf79",
   "metadata": {},
   "outputs": [],
   "source": [
    "def split_and_join(line):\n",
    "    split = line.split(' ')\n",
    "    join = '-'.join(split)\n",
    "    return join"
   ]
  },
  {
   "cell_type": "code",
   "execution_count": 6,
   "id": "501983ea-2b87-4e44-9e98-c2fae4d0f921",
   "metadata": {},
   "outputs": [
    {
     "name": "stdin",
     "output_type": "stream",
     "text": [
      " this is a string\n"
     ]
    },
    {
     "name": "stdout",
     "output_type": "stream",
     "text": [
      "this-is-a-string\n"
     ]
    }
   ],
   "source": [
    "line = input()\n",
    "result = split_and_join(line)\n",
    "print(result)"
   ]
  },
  {
   "cell_type": "markdown",
   "id": "4142e49c-15b1-40c2-8b57-6e24815bb001",
   "metadata": {},
   "source": [
    "### What's Your Name?\n",
    "[problem link](https://www.hackerrank.com/challenges/whats-your-name/problem?isFullScreen=true)"
   ]
  },
  {
   "cell_type": "code",
   "execution_count": 10,
   "id": "6e85312d-3627-4d1b-a5b4-399b9d2fd6d1",
   "metadata": {},
   "outputs": [],
   "source": [
    "def print_full_name(first, last):\n",
    "    print('Hello {} {}! You just delved into python.'.format(first, last))"
   ]
  },
  {
   "cell_type": "code",
   "execution_count": 11,
   "id": "44d0d065-8f8c-4f11-a7f8-301a27186816",
   "metadata": {},
   "outputs": [
    {
     "name": "stdin",
     "output_type": "stream",
     "text": [
      " Martina\n",
      " Bohunicka\n"
     ]
    },
    {
     "name": "stdout",
     "output_type": "stream",
     "text": [
      "Hello Martina Bohunicka! You just delved into python.\n"
     ]
    }
   ],
   "source": [
    "first_name = input()\n",
    "last_name = input()\n",
    "print_full_name(first_name, last_name)"
   ]
  },
  {
   "cell_type": "markdown",
   "id": "decebbad-0a92-460a-8bdc-1c94efd40ace",
   "metadata": {},
   "source": [
    "### Mutations\n",
    "[problem link](https://www.hackerrank.com/challenges/python-mutations/problem?isFullScreen=true)"
   ]
  },
  {
   "cell_type": "code",
   "execution_count": 12,
   "id": "db08d689-f860-499c-b49b-005c4a903dc8",
   "metadata": {},
   "outputs": [],
   "source": [
    "def mutate_string(string, position, character):\n",
    "    s = list(string)\n",
    "    s[position] = character\n",
    "    string = ' '.join(s)\n",
    "    return string"
   ]
  },
  {
   "cell_type": "code",
   "execution_count": 13,
   "id": "c0ee4c09-d5d1-4989-8f33-ac6d9e930e73",
   "metadata": {},
   "outputs": [
    {
     "name": "stdin",
     "output_type": "stream",
     "text": [
      " abracadabra\n",
      " 5 k\n"
     ]
    },
    {
     "name": "stdout",
     "output_type": "stream",
     "text": [
      "a b r a c k d a b r a\n"
     ]
    }
   ],
   "source": [
    "s = input()\n",
    "i, c = input().split()\n",
    "s_new = mutate_string(s, int(i), c)\n",
    "print(s_new)"
   ]
  },
  {
   "cell_type": "markdown",
   "id": "e7eccc29-5055-4c1a-9da2-2c5a1dff4c7a",
   "metadata": {},
   "source": [
    "### Find a string\n",
    "[problem link](https://www.hackerrank.com/challenges/find-a-string/problem?isFullScreen=true)"
   ]
  },
  {
   "cell_type": "code",
   "execution_count": 18,
   "id": "fa0fccec-9fba-4d94-887a-c937711d5754",
   "metadata": {},
   "outputs": [],
   "source": [
    "def count_substring(string, sub_string):\n",
    "    count = 0\n",
    "    \n",
    "    for i in range(len(string)):\n",
    "        if string[i:].startswith(sub_string):\n",
    "            count += 1 \n",
    "    return count"
   ]
  },
  {
   "cell_type": "code",
   "execution_count": 19,
   "id": "ed5aee68-a03a-419a-9c5a-7e2028440b6a",
   "metadata": {},
   "outputs": [
    {
     "name": "stdin",
     "output_type": "stream",
     "text": [
      " ABCDCDC\n",
      " CDC\n"
     ]
    },
    {
     "name": "stdout",
     "output_type": "stream",
     "text": [
      "2\n"
     ]
    }
   ],
   "source": [
    "string = input().strip()\n",
    "sub_string = input().strip()\n",
    "    \n",
    "count = count_substring(string, sub_string)\n",
    "print(count)"
   ]
  },
  {
   "cell_type": "markdown",
   "id": "2ee5949b-a9ec-4166-bde6-c9cfa74494cf",
   "metadata": {},
   "source": [
    "### String Validators\n",
    "[problem link](https://www.hackerrank.com/challenges/string-validators/problem?isFullScreen=true)"
   ]
  },
  {
   "cell_type": "code",
   "execution_count": 20,
   "id": "905f9931-db00-40dc-970a-03e329e3de3e",
   "metadata": {},
   "outputs": [
    {
     "name": "stdin",
     "output_type": "stream",
     "text": [
      " qA2\n"
     ]
    }
   ],
   "source": [
    "s = input()"
   ]
  },
  {
   "cell_type": "code",
   "execution_count": 21,
   "id": "39898347-a6cc-464c-bce9-580f5931b596",
   "metadata": {},
   "outputs": [
    {
     "name": "stdout",
     "output_type": "stream",
     "text": [
      "True\n",
      "True\n",
      "True\n",
      "True\n"
     ]
    }
   ],
   "source": [
    "# check for any alphanumeric characters:\n",
    "print(any(i.isalnum() for i in s))\n",
    "\n",
    "# check for characters in alphabetical order:\n",
    "print(any(i.isalpha() for i in s))\n",
    "\n",
    "# check for any lowercase characters:\n",
    "print(any(i.islower() for i in s))\n",
    "\n",
    "# check for any uppercase characters:\n",
    "print(any(i.isupper() for i in s))"
   ]
  },
  {
   "cell_type": "markdown",
   "id": "f26fefc4-a1a1-4f82-81c1-3c2f9cd25f0d",
   "metadata": {},
   "source": [
    "### Text Alignment\n",
    "[problem link](https://www.hackerrank.com/challenges/text-alignment/problem?isFullScreen=true)"
   ]
  },
  {
   "cell_type": "code",
   "execution_count": 26,
   "id": "707d06b6-73b2-4268-8e55-1c5899c076ea",
   "metadata": {},
   "outputs": [
    {
     "name": "stdin",
     "output_type": "stream",
     "text": [
      " 7\n"
     ]
    }
   ],
   "source": [
    "# This must be an odd number:\n",
    "thickness = int(input()) \n",
    "c = 'H'"
   ]
  },
  {
   "cell_type": "code",
   "execution_count": 27,
   "id": "52b58963-3749-4bd9-b565-715bed22ef16",
   "metadata": {},
   "outputs": [
    {
     "name": "stdout",
     "output_type": "stream",
     "text": [
      "      H      \n",
      "     HHH     \n",
      "    HHHHH    \n",
      "   HHHHHHH   \n",
      "  HHHHHHHHH  \n",
      " HHHHHHHHHHH \n",
      "HHHHHHHHHHHHH\n",
      "   HHHHHHH                     HHHHHHH                  \n",
      "   HHHHHHH                     HHHHHHH                  \n",
      "   HHHHHHH                     HHHHHHH                  \n",
      "   HHHHHHH                     HHHHHHH                  \n",
      "   HHHHHHH                     HHHHHHH                  \n",
      "   HHHHHHH                     HHHHHHH                  \n",
      "   HHHHHHH                     HHHHHHH                  \n",
      "   HHHHHHH                     HHHHHHH                  \n",
      "   HHHHHHHHHHHHHHHHHHHHHHHHHHHHHHHHHHH    \n",
      "   HHHHHHHHHHHHHHHHHHHHHHHHHHHHHHHHHHH    \n",
      "   HHHHHHHHHHHHHHHHHHHHHHHHHHHHHHHHHHH    \n",
      "   HHHHHHHHHHHHHHHHHHHHHHHHHHHHHHHHHHH    \n",
      "   HHHHHHH                     HHHHHHH                  \n",
      "   HHHHHHH                     HHHHHHH                  \n",
      "   HHHHHHH                     HHHHHHH                  \n",
      "   HHHHHHH                     HHHHHHH                  \n",
      "   HHHHHHH                     HHHHHHH                  \n",
      "   HHHHHHH                     HHHHHHH                  \n",
      "   HHHHHHH                     HHHHHHH                  \n",
      "   HHHHHHH                     HHHHHHH                  \n",
      "                            HHHHHHHHHHHHH \n",
      "                             HHHHHHHHHHH  \n",
      "                              HHHHHHHHH   \n",
      "                               HHHHHHH    \n",
      "                                HHHHH     \n",
      "                                 HHH      \n",
      "                                  H       \n"
     ]
    }
   ],
   "source": [
    "#Top Cone\n",
    "for i in range(thickness):\n",
    "    print((c*i).rjust(thickness-1)+c+(c*i).ljust(thickness-1))\n",
    "\n",
    "#Top Pillars\n",
    "for i in range(thickness+1):\n",
    "    print((c*thickness).center(thickness*2)+(c*thickness).center(thickness*6))\n",
    "\n",
    "#Middle Belt\n",
    "for i in range((thickness+1)//2):\n",
    "    print((c*thickness*5).center(thickness*6))    \n",
    "\n",
    "#Bottom Pillars\n",
    "for i in range(thickness+1):\n",
    "    print((c*thickness).center(thickness*2)+(c*thickness).center(thickness*6))    \n",
    "\n",
    "#Bottom Cone\n",
    "for i in range(thickness):\n",
    "    print(((c*(thickness-i-1)).rjust(thickness)+c+(c*(thickness-i-1)).ljust(thickness)).rjust(thickness*6))"
   ]
  },
  {
   "cell_type": "markdown",
   "id": "2c33d2d0-c63f-4cae-a274-4fb30e9a26be",
   "metadata": {},
   "source": [
    "### Text Wrap\n",
    "[problem link](https://www.hackerrank.com/challenges/text-wrap/problem?isFullScreen=true)"
   ]
  },
  {
   "cell_type": "code",
   "execution_count": 32,
   "id": "555de34c-fb78-48b8-8e65-7bd692607f11",
   "metadata": {},
   "outputs": [],
   "source": [
    "import textwrap\n",
    "\n",
    "def wrap(string, max_width):\n",
    "    return textwrap.fill(string, max_width)"
   ]
  },
  {
   "cell_type": "code",
   "execution_count": 33,
   "id": "cc83094f-0e70-4433-9f63-cc4a190162f7",
   "metadata": {},
   "outputs": [
    {
     "name": "stdin",
     "output_type": "stream",
     "text": [
      " ABCDEFGHIJKLIMNOQRSTUVWXYZ\n",
      " 4\n"
     ]
    },
    {
     "name": "stdout",
     "output_type": "stream",
     "text": [
      "ABCD\n",
      "EFGH\n",
      "IJKL\n",
      "IMNO\n",
      "QRST\n",
      "UVWX\n",
      "YZ\n"
     ]
    }
   ],
   "source": [
    "string, max_width = input(), int(input())\n",
    "result = wrap(string, max_width)\n",
    "print(result)"
   ]
  },
  {
   "cell_type": "markdown",
   "id": "c01b209b-5b20-41cd-ac5c-3c3aaccbe715",
   "metadata": {},
   "source": [
    "### Designer Door Mat\n",
    "[problem link](https://www.hackerrank.com/challenges/designer-door-mat/problem?isFullScreen=true)"
   ]
  },
  {
   "cell_type": "code",
   "execution_count": 39,
   "id": "2e8a8297-9190-4a22-96c0-d22c26e75485",
   "metadata": {},
   "outputs": [
    {
     "name": "stdin",
     "output_type": "stream",
     "text": [
      " 9 27\n"
     ]
    }
   ],
   "source": [
    "# Enter two integers, n must be odd and m must be 3*n:\n",
    "n, m = map(int, input().split())"
   ]
  },
  {
   "cell_type": "code",
   "execution_count": 40,
   "id": "d362cb6f-6ca2-458e-a9bf-20a88f4e9194",
   "metadata": {},
   "outputs": [
    {
     "name": "stdout",
     "output_type": "stream",
     "text": [
      "------------.|.------------\n",
      "---------.|..|..|.---------\n",
      "------.|..|..|..|..|.------\n",
      "---.|..|..|..|..|..|..|.---\n",
      "----------WELCOME----------\n",
      "---.|..|..|..|..|..|..|.---\n",
      "------.|..|..|..|..|.------\n",
      "---------.|..|..|.---------\n",
      "------------.|.------------\n"
     ]
    }
   ],
   "source": [
    "# top part:\n",
    "for i in range(n//2):\n",
    "    j = int(2*i + 1)\n",
    "    print(('.|.'*j).center(m, '-'))\n",
    "\n",
    "# middle section:\n",
    "print('WELCOME'.center(m, '-'))\n",
    "\n",
    "# bottom part:\n",
    "for i in reversed(range(n//2)):\n",
    "    j = int(2*i + 1)\n",
    "    print(('.|.'*j).center(m, '-'))"
   ]
  },
  {
   "cell_type": "markdown",
   "id": "de85caf6-eb43-42e3-bebb-d7830dc534b9",
   "metadata": {},
   "source": [
    "### String Formatting\n",
    "[problem link](https://www.hackerrank.com/challenges/python-string-formatting/problem?isFullScreen=true)"
   ]
  },
  {
   "cell_type": "code",
   "execution_count": 42,
   "id": "7940e6b7-63a0-4e49-b2d8-9336fd44ac83",
   "metadata": {},
   "outputs": [],
   "source": [
    "def print_formatted(number):\n",
    "    width = len(bin(number)[2:])\n",
    "\n",
    "    for i in range(1, number + 1):\n",
    "        deci = str(i)\n",
    "        octa = oct(i)[2:]\n",
    "        hexa = hex(i)[2:].upper()\n",
    "        bina = bin(i)[2:]\n",
    "\n",
    "        print(deci.ljust(width), octa.ljust(width), hexa.ljust(width), bina.ljust(width))"
   ]
  },
  {
   "cell_type": "code",
   "execution_count": 43,
   "id": "6e12ecbf-1006-45ee-91d4-a6c2f665ce8c",
   "metadata": {},
   "outputs": [
    {
     "name": "stdin",
     "output_type": "stream",
     "text": [
      " 17\n"
     ]
    },
    {
     "name": "stdout",
     "output_type": "stream",
     "text": [
      "1     1     1     1    \n",
      "2     2     2     10   \n",
      "3     3     3     11   \n",
      "4     4     4     100  \n",
      "5     5     5     101  \n",
      "6     6     6     110  \n",
      "7     7     7     111  \n",
      "8     10    8     1000 \n",
      "9     11    9     1001 \n",
      "10    12    A     1010 \n",
      "11    13    B     1011 \n",
      "12    14    C     1100 \n",
      "13    15    D     1101 \n",
      "14    16    E     1110 \n",
      "15    17    F     1111 \n",
      "16    20    10    10000\n",
      "17    21    11    10001\n"
     ]
    }
   ],
   "source": [
    "n = int(input())\n",
    "print_formatted(n)"
   ]
  },
  {
   "cell_type": "markdown",
   "id": "623690c6-51f2-4a81-8011-1cb6fe9a2dac",
   "metadata": {},
   "source": [
    "### Alphabet Rangoli\n",
    "[problem link](https://www.hackerrank.com/challenges/alphabet-rangoli/problem?isFullScreen=true)"
   ]
  },
  {
   "cell_type": "code",
   "execution_count": 44,
   "id": "33d916f6-c720-464e-8d4a-ccf16334708f",
   "metadata": {},
   "outputs": [],
   "source": [
    "import string\n",
    "alphabet = string.ascii_lowercase\n",
    "\n",
    "def print_rangoli(size):\n",
    "    line = []\n",
    "    for row in range(size):\n",
    "        print_ = '-'.join(alphabet[row:size])\n",
    "        line.append(print_[::-1] + print_[1:])\n",
    "\n",
    "    width = len(line[0])\n",
    "\n",
    "    for row in range(size-1, 0, -1):\n",
    "        print(line[row].center(width, '-'))\n",
    "\n",
    "    for row in range(size):\n",
    "        print(line[row].center(width, '-'))"
   ]
  },
  {
   "cell_type": "code",
   "execution_count": 45,
   "id": "e349afe4-3080-4a16-ab98-c1b4622f84fa",
   "metadata": {},
   "outputs": [
    {
     "name": "stdin",
     "output_type": "stream",
     "text": [
      " 10\n"
     ]
    },
    {
     "name": "stdout",
     "output_type": "stream",
     "text": [
      "------------------j------------------\n",
      "----------------j-i-j----------------\n",
      "--------------j-i-h-i-j--------------\n",
      "------------j-i-h-g-h-i-j------------\n",
      "----------j-i-h-g-f-g-h-i-j----------\n",
      "--------j-i-h-g-f-e-f-g-h-i-j--------\n",
      "------j-i-h-g-f-e-d-e-f-g-h-i-j------\n",
      "----j-i-h-g-f-e-d-c-d-e-f-g-h-i-j----\n",
      "--j-i-h-g-f-e-d-c-b-c-d-e-f-g-h-i-j--\n",
      "j-i-h-g-f-e-d-c-b-a-b-c-d-e-f-g-h-i-j\n",
      "--j-i-h-g-f-e-d-c-b-c-d-e-f-g-h-i-j--\n",
      "----j-i-h-g-f-e-d-c-d-e-f-g-h-i-j----\n",
      "------j-i-h-g-f-e-d-e-f-g-h-i-j------\n",
      "--------j-i-h-g-f-e-f-g-h-i-j--------\n",
      "----------j-i-h-g-f-g-h-i-j----------\n",
      "------------j-i-h-g-h-i-j------------\n",
      "--------------j-i-h-i-j--------------\n",
      "----------------j-i-j----------------\n",
      "------------------j------------------\n"
     ]
    }
   ],
   "source": [
    "n = int(input())\n",
    "print_rangoli(n)"
   ]
  },
  {
   "cell_type": "markdown",
   "id": "c958998f-45a2-4203-a5c6-a722158abd8f",
   "metadata": {},
   "source": [
    "### Capitalize!\n",
    "[problem link](https://www.hackerrank.com/challenges/capitalize/problem?isFullScreen=true)"
   ]
  },
  {
   "cell_type": "code",
   "execution_count": 64,
   "id": "9cf16394-9f7c-4a00-ac1f-204e3adfa1fd",
   "metadata": {},
   "outputs": [],
   "source": [
    "def solve(s):\n",
    "    l = s.split(' ')\n",
    "\n",
    "    caps = (i.capitalize() for i in l)\n",
    "    return ' '.join(caps)  "
   ]
  },
  {
   "cell_type": "code",
   "execution_count": 65,
   "id": "d6cb295e-9443-486c-9be9-4b324128b152",
   "metadata": {},
   "outputs": [],
   "source": [
    "s = 'martina bohunicka charles'"
   ]
  },
  {
   "cell_type": "code",
   "execution_count": 66,
   "id": "68bd4429-fb2b-4a7e-a107-160ba587207c",
   "metadata": {},
   "outputs": [
    {
     "data": {
      "text/plain": [
       "'Martina Bohunicka Charles'"
      ]
     },
     "execution_count": 66,
     "metadata": {},
     "output_type": "execute_result"
    }
   ],
   "source": [
    "solve(s)"
   ]
  },
  {
   "cell_type": "markdown",
   "id": "9e52a20e-f67f-4286-8939-4482248bf1ee",
   "metadata": {},
   "source": [
    "### The Minion Game\n",
    "[problem link](https://www.hackerrank.com/challenges/the-minion-game/problem?isFullScreen=true)"
   ]
  },
  {
   "cell_type": "code",
   "execution_count": 78,
   "id": "14386bee-9a75-412d-bcbf-5e18516eb045",
   "metadata": {},
   "outputs": [],
   "source": [
    "def minion_game(string):\n",
    "    vowels = 'AEIOU'\n",
    "    str_lenght = len(string)\n",
    "    \n",
    "    # initial scores for Kevin (vowels) and Stuart (consonants):\n",
    "    count_kev = 0\n",
    "    count_stu = 0\n",
    "\n",
    "    for i in range(str_lenght):\n",
    "         if s[i] in vowels:\n",
    "             count_kev += (str_lenght - i)\n",
    "         else:\n",
    "             count_stu += (str_lenght - i)\n",
    "\n",
    "    if count_stu == count_kev:\n",
    "        print('Draw')\n",
    "    elif count_stu > count_kev:\n",
    "        print('Stuart', int(count_stu))\n",
    "    else:\n",
    "        print('Kevin', int(count_kev))\n"
   ]
  },
  {
   "cell_type": "code",
   "execution_count": 79,
   "id": "09782b2c-e8e9-4c2a-b2cb-7e4e1224eb6d",
   "metadata": {},
   "outputs": [
    {
     "name": "stdin",
     "output_type": "stream",
     "text": [
      " BANANA\n"
     ]
    },
    {
     "name": "stdout",
     "output_type": "stream",
     "text": [
      "Stuart 12\n"
     ]
    }
   ],
   "source": [
    "s = input()\n",
    "minion_game(s)"
   ]
  },
  {
   "cell_type": "markdown",
   "id": "00124779-484c-4660-896e-22e5344dc274",
   "metadata": {},
   "source": [
    "### Merge the Tools!\n",
    "[problem link](https://www.hackerrank.com/challenges/merge-the-tools/problem?isFullScreen=true)"
   ]
  },
  {
   "cell_type": "code",
   "execution_count": 69,
   "id": "24d4fb65-62a2-479d-92ab-294caaa3ab4c",
   "metadata": {},
   "outputs": [],
   "source": [
    "from collections import OrderedDict\n",
    "\n",
    "def merge_the_tools(string, k):\n",
    "    # your code goes here\n",
    "    i = 0\n",
    "    while i < len(string):\n",
    "        word1 = \"\".join(OrderedDict.fromkeys(string[i: i+k]))      \n",
    "        print(word1)\n",
    "        i = i + k"
   ]
  },
  {
   "cell_type": "code",
   "execution_count": 71,
   "id": "87dbc41b-5ed0-4564-bdcf-4e451e6a1b3b",
   "metadata": {},
   "outputs": [
    {
     "name": "stdin",
     "output_type": "stream",
     "text": [
      " AABCAAADA\n",
      " 3\n"
     ]
    },
    {
     "name": "stdout",
     "output_type": "stream",
     "text": [
      "AB\n",
      "CA\n",
      "AD\n"
     ]
    }
   ],
   "source": [
    "string, k = input(), int(input())\n",
    "merge_the_tools(string, k)"
   ]
  }
 ],
 "metadata": {
  "kernelspec": {
   "display_name": "Python 3 (ipykernel)",
   "language": "python",
   "name": "python3"
  },
  "language_info": {
   "codemirror_mode": {
    "name": "ipython",
    "version": 3
   },
   "file_extension": ".py",
   "mimetype": "text/x-python",
   "name": "python",
   "nbconvert_exporter": "python",
   "pygments_lexer": "ipython3",
   "version": "3.11.7"
  }
 },
 "nbformat": 4,
 "nbformat_minor": 5
}
